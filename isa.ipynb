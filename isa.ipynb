{
 "cells": [
  {
   "cell_type": "markdown",
   "metadata": {},
   "source": [
    "# **Instance Space Analysis**"
   ]
  },
  {
   "cell_type": "code",
   "execution_count": 4,
   "metadata": {},
   "outputs": [],
   "source": [
    "import numpy as np\n",
    "import pandas as pd\n",
    "from pyhard import *"
   ]
  },
  {
   "cell_type": "code",
   "execution_count": null,
   "metadata": {},
   "outputs": [],
   "source": [
    "# Criando um DataFrame de exemplo\n",
    "data = {\n",
    "    'feature1': np.random.rand(100),\n",
    "    'feature2': np.random.rand(100),\n",
    "    'label': np.random.randint(0, 2, size=100)\n",
    "}\n",
    "df = pd.DataFrame(data)\n",
    "\n",
    "# Definindo características e rótulos\n",
    "features = df[['feature1', 'feature2']].values\n",
    "labels = df['label'].values\n",
    "\n",
    "# Criando uma instância do InstanceSpace\n",
    "instance_space = InstanceSpace(features, labels)\n",
    "\n",
    "# Plotando o espaço de instâncias\n",
    "instance_space.plot()\n",
    "\n",
    "# Calculando a densidade\n",
    "density = instance_space.calculate_density()\n",
    "print(\"Densidade das instâncias:\", density)\n",
    "\n",
    "# Identificando grupos\n",
    "clusters = instance_space.cluster()\n",
    "print(\"Grupos identificados:\", clusters)\n"
   ]
  }
 ],
 "metadata": {
  "kernelspec": {
   "display_name": "Python 3",
   "language": "python",
   "name": "python3"
  },
  "language_info": {
   "codemirror_mode": {
    "name": "ipython",
    "version": 3
   },
   "file_extension": ".py",
   "mimetype": "text/x-python",
   "name": "python",
   "nbconvert_exporter": "python",
   "pygments_lexer": "ipython3",
   "version": "3.10.11"
  }
 },
 "nbformat": 4,
 "nbformat_minor": 2
}
